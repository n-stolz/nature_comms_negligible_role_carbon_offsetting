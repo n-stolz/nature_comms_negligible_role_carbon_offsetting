{
 "cells": [
  {
   "cell_type": "code",
   "execution_count": 1,
   "metadata": {},
   "outputs": [],
   "source": [
    "import pandas as pd"
   ]
  },
  {
   "cell_type": "code",
   "execution_count": 2,
   "metadata": {},
   "outputs": [],
   "source": [
    "#read companies\n",
    "target_car=pd.read_excel('data/company_data/Data.xlsx', sheet_name='Targets_car')\n",
    "target_og=pd.read_excel('data/company_data/Data.xlsx', sheet_name='Targets_OG')\n",
    "target_airline=pd.read_excel('data/company_data/Data.xlsx', sheet_name='Targets_Airlines')\n",
    "\n",
    "company_list=list(target_car['CDP_ID'].unique())+list(target_og['CDP_ID'].unique())+list(target_airline['CDP_ID'].unique())\n",
    "\n",
    "#read ets allowance purchase data\n",
    "df_ets=pd.read_csv('data/CDP/ETS_2023.csv')\n",
    "df_ets = df_ets[~(df_ets['scope1_share'] == 'Question not applicable')]\n",
    "\n",
    "\n",
    "df_ets['allowances_purchased']=pd.to_numeric(df_ets['allowances_purchased'], errors='coerce')\n",
    "\n",
    "df_ets['scope1_share']=pd.to_numeric(df_ets['scope1_share'], errors='coerce')\n",
    "df_ets['price']=0\n"
   ]
  },
  {
   "cell_type": "code",
   "execution_count": 3,
   "metadata": {},
   "outputs": [],
   "source": [
    "#read avg. ETS prices\n",
    "ets_prices=pd.read_excel('data/company_data/carbon_pricing.xlsx', sheet_name='Sheet1').set_index('ETS_name')"
   ]
  },
  {
   "cell_type": "code",
   "execution_count": 4,
   "metadata": {},
   "outputs": [
    {
     "name": "stderr",
     "output_type": "stream",
     "text": [
      "/var/folders/y_/tm05xtp10jn9jjjr7109pxs00000gr/T/ipykernel_73476/2321010004.py:3: FutureWarning: Setting an item of incompatible dtype is deprecated and will raise an error in a future version of pandas. Value '86.526108' has dtype incompatible with int64, please explicitly cast to a compatible dtype first.\n",
      "  df_ets.loc[df_ets['ets_name']==i, 'price']=ets_prices.loc[i, 2022]\n"
     ]
    }
   ],
   "source": [
    "#fill in prices\n",
    "for i in df_ets[df_ets['allowances_purchased']>0].ets_name.unique():\n",
    "    df_ets.loc[df_ets['ets_name']==i, 'price']=ets_prices.loc[i, 2022]\n",
    "\n",
    "#calculate prices\n",
    "df_ets['costs']=df_ets['allowances_purchased']*df_ets['price']\n",
    "df_ets['costs']=df_ets['costs'].fillna(0)\n",
    "\n",
    "\n",
    "df_ets['scope1_share']=df_ets['scope1_share'].fillna(0)\n",
    "df_ets.groupby('company_name')['scope1_share'].sum()\n",
    "\n",
    "ets_costs=df_ets.groupby('CDP_ID')['costs'].sum()"
   ]
  },
  {
   "cell_type": "code",
   "execution_count": 5,
   "metadata": {},
   "outputs": [],
   "source": [
    "#save\n",
    "ets_costs.to_pickle('data/ets_costs.pkl')"
   ]
  }
 ],
 "metadata": {
  "kernelspec": {
   "display_name": "virt_env",
   "language": "python",
   "name": "python3"
  },
  "language_info": {
   "codemirror_mode": {
    "name": "ipython",
    "version": 3
   },
   "file_extension": ".py",
   "mimetype": "text/x-python",
   "name": "python",
   "nbconvert_exporter": "python",
   "pygments_lexer": "ipython3",
   "version": "3.9.6"
  },
  "orig_nbformat": 4
 },
 "nbformat": 4,
 "nbformat_minor": 2
}
